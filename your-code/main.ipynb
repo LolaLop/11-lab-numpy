{
 "cells": [
  {
   "cell_type": "markdown",
   "metadata": {},
   "source": [
    "# Intrduction to NumPy\n",
    "\n",
    "\n",
    "#### 1. Import NumPy under the name np."
   ]
  },
  {
   "cell_type": "code",
   "execution_count": 1,
   "metadata": {
    "ExecuteTime": {
     "end_time": "2020-07-16T19:39:05.031644Z",
     "start_time": "2020-07-16T19:39:04.742434Z"
    }
   },
   "outputs": [],
   "source": [
    "# your code here\n",
    "import numpy as np"
   ]
  },
  {
   "cell_type": "markdown",
   "metadata": {},
   "source": [
    "#### 2. Print your NumPy version."
   ]
  },
  {
   "cell_type": "code",
   "execution_count": 2,
   "metadata": {
    "ExecuteTime": {
     "end_time": "2020-07-16T19:39:05.043437Z",
     "start_time": "2020-07-16T19:39:05.034636Z"
    }
   },
   "outputs": [
    {
     "name": "stdout",
     "output_type": "stream",
     "text": [
      "1.18.1\n"
     ]
    }
   ],
   "source": [
    "# your code here\n",
    "print(np.__version__)"
   ]
  },
  {
   "cell_type": "markdown",
   "metadata": {},
   "source": [
    "#### 3. Generate a 2x3x5 3-dimensional array with random values. Assign the array to variable *a*.\n",
    "**Challenge**: there are at least three easy ways that use numpy to generate random arrays. How many ways can you find?"
   ]
  },
  {
   "cell_type": "code",
   "execution_count": 3,
   "metadata": {
    "ExecuteTime": {
     "end_time": "2020-07-16T19:39:05.062665Z",
     "start_time": "2020-07-16T19:39:05.051945Z"
    }
   },
   "outputs": [],
   "source": [
    "# Method 1\n",
    "\n",
    "# random value\n",
    "a = np.random.random((2,3,5))"
   ]
  },
  {
   "cell_type": "code",
   "execution_count": 4,
   "metadata": {
    "ExecuteTime": {
     "end_time": "2020-07-16T19:39:05.086482Z",
     "start_time": "2020-07-16T19:39:05.075641Z"
    }
   },
   "outputs": [],
   "source": [
    "# Method 2\n",
    "\n",
    "# Random values from 0 to 1\n",
    "a = np.random.rand(2,3,5)"
   ]
  },
  {
   "cell_type": "code",
   "execution_count": 5,
   "metadata": {
    "ExecuteTime": {
     "end_time": "2020-07-16T19:39:05.108511Z",
     "start_time": "2020-07-16T19:39:05.099842Z"
    }
   },
   "outputs": [],
   "source": [
    "# Method 3\n",
    "\n",
    "# random integer values form 0 to 100\n",
    "a = np.random.randint(0,101,(2,3,5))"
   ]
  },
  {
   "cell_type": "markdown",
   "metadata": {},
   "source": [
    "#### 4. Print *a*.\n"
   ]
  },
  {
   "cell_type": "code",
   "execution_count": 6,
   "metadata": {
    "ExecuteTime": {
     "end_time": "2020-07-16T19:39:05.127343Z",
     "start_time": "2020-07-16T19:39:05.113705Z"
    }
   },
   "outputs": [
    {
     "name": "stdout",
     "output_type": "stream",
     "text": [
      "[[[ 88  71 100  48   4]\n",
      "  [ 39  49  13  14  45]\n",
      "  [ 66  66  44  51  78]]\n",
      "\n",
      " [[ 41  87  89  66  27]\n",
      "  [ 54  36  91   7  57]\n",
      "  [ 76  83 100  80  13]]]\n"
     ]
    }
   ],
   "source": [
    "# your code here\n",
    "print(a)"
   ]
  },
  {
   "cell_type": "markdown",
   "metadata": {},
   "source": [
    "#### 5. Create a 5x2x3 3-dimensional array with all values equaling 1. Assign the array to variable *b*."
   ]
  },
  {
   "cell_type": "code",
   "execution_count": 7,
   "metadata": {
    "ExecuteTime": {
     "end_time": "2020-07-16T19:39:05.142345Z",
     "start_time": "2020-07-16T19:39:05.134211Z"
    }
   },
   "outputs": [],
   "source": [
    "# your code here\n",
    "\n",
    "b = np.ones((5,2,3))"
   ]
  },
  {
   "cell_type": "markdown",
   "metadata": {},
   "source": [
    "#### 6. Print *b*.\n"
   ]
  },
  {
   "cell_type": "code",
   "execution_count": 8,
   "metadata": {
    "ExecuteTime": {
     "end_time": "2020-07-16T19:39:05.174247Z",
     "start_time": "2020-07-16T19:39:05.160132Z"
    }
   },
   "outputs": [
    {
     "name": "stdout",
     "output_type": "stream",
     "text": [
      "[[[1. 1. 1.]\n",
      "  [1. 1. 1.]]\n",
      "\n",
      " [[1. 1. 1.]\n",
      "  [1. 1. 1.]]\n",
      "\n",
      " [[1. 1. 1.]\n",
      "  [1. 1. 1.]]\n",
      "\n",
      " [[1. 1. 1.]\n",
      "  [1. 1. 1.]]\n",
      "\n",
      " [[1. 1. 1.]\n",
      "  [1. 1. 1.]]]\n"
     ]
    }
   ],
   "source": [
    "# your code here\n",
    "print(b)"
   ]
  },
  {
   "cell_type": "markdown",
   "metadata": {},
   "source": [
    "#### 7. Do *a* and *b* have the same size? How do you prove that in Python code?"
   ]
  },
  {
   "cell_type": "code",
   "execution_count": 9,
   "metadata": {
    "ExecuteTime": {
     "end_time": "2020-07-16T19:39:05.193083Z",
     "start_time": "2020-07-16T19:39:05.181516Z"
    }
   },
   "outputs": [
    {
     "name": "stdout",
     "output_type": "stream",
     "text": [
      "Arrays a and b do not have the same size: a has size (2, 3, 5) and b, (5, 2, 3)\n"
     ]
    }
   ],
   "source": [
    "# your code here\n",
    "if a.shape == b.shape:\n",
    "    print('Both arrays have the same size')\n",
    "else:\n",
    "    print(f'Arrays a and b do not have the same size: a has size {a.shape} and b, {b.shape}')"
   ]
  },
  {
   "cell_type": "markdown",
   "metadata": {},
   "source": [
    "#### 8. Are you able to add *a* and *b*? Why or why not?\n"
   ]
  },
  {
   "cell_type": "code",
   "execution_count": 10,
   "metadata": {
    "ExecuteTime": {
     "end_time": "2020-07-16T19:39:05.214013Z",
     "start_time": "2020-07-16T19:39:05.197649Z"
    }
   },
   "outputs": [
    {
     "name": "stdout",
     "output_type": "stream",
     "text": [
      "not possible to add a and b because their size is different\n"
     ]
    }
   ],
   "source": [
    "# your answer here\n",
    "print('not possible to add a and b because their size is different')"
   ]
  },
  {
   "cell_type": "markdown",
   "metadata": {},
   "source": [
    "#### 9. Transpose *b* so that it has the same structure of *a* (i.e. become a 2x3x5 array). Assign the transposed array to variable *c*."
   ]
  },
  {
   "cell_type": "code",
   "execution_count": 13,
   "metadata": {
    "ExecuteTime": {
     "end_time": "2020-07-16T20:00:32.338270Z",
     "start_time": "2020-07-16T20:00:32.333323Z"
    }
   },
   "outputs": [],
   "source": [
    "# your code here\n",
    "\n",
    "c = b.reshape((2,3,5))"
   ]
  },
  {
   "cell_type": "markdown",
   "metadata": {},
   "source": [
    "#### 10. Try to add *a* and *c*. Now it should work. Assign the sum to variable *d*. But why does it work now?"
   ]
  },
  {
   "cell_type": "code",
   "execution_count": 15,
   "metadata": {
    "ExecuteTime": {
     "end_time": "2020-07-16T20:00:42.906049Z",
     "start_time": "2020-07-16T20:00:42.902034Z"
    }
   },
   "outputs": [],
   "source": [
    "# your code/answer here\n",
    "d = a + c"
   ]
  },
  {
   "cell_type": "markdown",
   "metadata": {},
   "source": [
    "#### 11. Print *a* and *d*. Notice the difference and relation of the two array in terms of the values? Explain."
   ]
  },
  {
   "cell_type": "code",
   "execution_count": 21,
   "metadata": {
    "ExecuteTime": {
     "end_time": "2020-07-16T20:02:35.114204Z",
     "start_time": "2020-07-16T20:02:35.105898Z"
    }
   },
   "outputs": [
    {
     "name": "stdout",
     "output_type": "stream",
     "text": [
      "a =[[[ 88  71 100  48   4]\n",
      "  [ 39  49  13  14  45]\n",
      "  [ 66  66  44  51  78]]\n",
      "\n",
      " [[ 41  87  89  66  27]\n",
      "  [ 54  36  91   7  57]\n",
      "  [ 76  83 100  80  13]]]\n",
      "\n",
      "\n",
      "d =[[[ 89.  72. 101.  49.   5.]\n",
      "  [ 40.  50.  14.  15.  46.]\n",
      "  [ 67.  67.  45.  52.  79.]]\n",
      "\n",
      " [[ 42.  88.  90.  67.  28.]\n",
      "  [ 55.  37.  92.   8.  58.]\n",
      "  [ 77.  84. 101.  81.  14.]]]\n",
      "\n",
      "\n",
      "The difference between a and d is 1, because we have added to a an array of ones\n"
     ]
    }
   ],
   "source": [
    "# your code/answer here\n",
    "\n",
    "print(f'a ={a}\\n\\n')\n",
    "\n",
    "print(f'd ={d}\\n\\n')\n",
    "\n",
    "print('The difference between a and d is 1, because we have added to a an array of ones')"
   ]
  },
  {
   "cell_type": "markdown",
   "metadata": {},
   "source": [
    "#### 12. Multiply *a* and *c*. Assign the result to *e*."
   ]
  },
  {
   "cell_type": "code",
   "execution_count": 22,
   "metadata": {
    "ExecuteTime": {
     "end_time": "2020-07-16T20:02:39.918057Z",
     "start_time": "2020-07-16T20:02:39.912712Z"
    }
   },
   "outputs": [],
   "source": [
    "# your code here\n",
    "\n",
    "e = a * c"
   ]
  },
  {
   "cell_type": "markdown",
   "metadata": {},
   "source": [
    "#### 13. Does *e* equal to *a*? Why or why not?\n"
   ]
  },
  {
   "cell_type": "code",
   "execution_count": 29,
   "metadata": {
    "ExecuteTime": {
     "end_time": "2020-07-16T20:04:24.511146Z",
     "start_time": "2020-07-16T20:04:24.504942Z"
    }
   },
   "outputs": [
    {
     "name": "stdout",
     "output_type": "stream",
     "text": [
      "a is equal to e beause we have multiply by c which is an array that only contains ones\n"
     ]
    }
   ],
   "source": [
    "# your code/answer here\n",
    "if e.all() == a.all():\n",
    "    print('a is equal to e beause we have multiply by c which is an array that only contains ones')"
   ]
  },
  {
   "cell_type": "markdown",
   "metadata": {},
   "source": [
    "#### 14. Identify the max, min, and mean values in *d*. Assign those values to variables *d_max*, *d_min* and *d_mean*."
   ]
  },
  {
   "cell_type": "code",
   "execution_count": 30,
   "metadata": {
    "ExecuteTime": {
     "end_time": "2020-07-16T20:05:38.725844Z",
     "start_time": "2020-07-16T20:05:38.718426Z"
    }
   },
   "outputs": [
    {
     "name": "stdout",
     "output_type": "stream",
     "text": [
      "The max of d is 101.0\n",
      "The min of d is 5.0\n",
      "The mean of d is 57.1\n"
     ]
    }
   ],
   "source": [
    "# your code here\n",
    "d_max = d.max()\n",
    "print(f'The max of d is {d_max}')\n",
    "\n",
    "d_min = d.min()\n",
    "print(f'The min of d is {d_min}')\n",
    "      \n",
    "d_mean = d.mean()\n",
    "print(f'The mean of d is {d_mean}')"
   ]
  },
  {
   "cell_type": "markdown",
   "metadata": {},
   "source": [
    "#### 15. Now we want to label the values in *d*. First create an empty array *f* with the same shape (i.e. 2x3x5) as *d* using `np.empty`.\n"
   ]
  },
  {
   "cell_type": "code",
   "execution_count": 35,
   "metadata": {
    "ExecuteTime": {
     "end_time": "2020-07-16T20:06:45.161378Z",
     "start_time": "2020-07-16T20:06:45.156954Z"
    }
   },
   "outputs": [],
   "source": [
    "# your code here\n",
    "f = np.empty(d.shape)"
   ]
  },
  {
   "cell_type": "markdown",
   "metadata": {},
   "source": [
    "#### 16. Populate the values in *f*. \n",
    "\n",
    "For each value in *d*, if it's larger than *d_min* but smaller than *d_mean*, assign 25 to the corresponding value in *f*. If a value in *d* is larger than *d_mean* but smaller than *d_max*, assign 75 to the corresponding value in *f*. If a value equals to *d_mean*, assign 50 to the corresponding value in *f*. Assign 0 to the corresponding value(s) in *f* for *d_min* in *d*. Assign 100 to the corresponding value(s) in *f* for *d_max* in *d*. In the end, f should have only the following values: 0, 25, 50, 75, and 100.\n",
    "\n",
    "**Note**: you don't have to use Numpy in this question."
   ]
  },
  {
   "cell_type": "code",
   "execution_count": 57,
   "metadata": {
    "ExecuteTime": {
     "end_time": "2020-07-16T20:20:22.788253Z",
     "start_time": "2020-07-16T20:20:22.765227Z"
    }
   },
   "outputs": [],
   "source": [
    "# your code here\n",
    "i = 0\n",
    "j = 0\n",
    "k = 0\n",
    "\n",
    "for depth in d:\n",
    "    for row in depth:\n",
    "        for num in row:\n",
    "            if num > d_min and num < d_mean:\n",
    "                f[i][j][k] = 25\n",
    "            elif num > d_mean and num < d_max:\n",
    "                f[i][j][k] = 75\n",
    "            elif num == d_mean:\n",
    "                f[i][j][k] = 50\n",
    "            elif num < d_min:\n",
    "                f[i][j][k] = 0\n",
    "            else:\n",
    "                f[i][j][k] = 100\n",
    "            k += 1\n",
    "        j += 1\n",
    "        k = 0\n",
    "    i += 1\n",
    "    j = 0\n",
    "    k = 0\n",
    "    "
   ]
  },
  {
   "cell_type": "markdown",
   "metadata": {},
   "source": [
    "#### 17. Print *d* and *f*. Do you have your expected *f*?\n",
    "For instance, if your *d* is:\n",
    "```python\n",
    "[[[1.85836099, 1.67064465, 1.62576044, 1.40243961, 1.88454931],\n",
    "[1.75354326, 1.69403643, 1.36729252, 1.61415071, 1.12104981],\n",
    "[1.72201435, 1.1862918 , 1.87078449, 1.7726778 , 1.88180042]],\n",
    "[[1.44747908, 1.31673383, 1.02000951, 1.52218947, 1.97066381],\n",
    "[1.79129243, 1.74983003, 1.96028037, 1.85166831, 1.65450881],\n",
    "[1.18068344, 1.9587381 , 1.00656599, 1.93402165, 1.73514584]]]\n",
    "```\n",
    "Your *f* should be:\n",
    "```python\n",
    "[[[ 75.,  75.,  75.,  25.,  75.],\n",
    "[ 75.,  75.,  25.,  25.,  25.],\n",
    "[ 75.,  25.,  75.,  75.,  75.]],\n",
    "[[ 25.,  25.,  25.,  25., 100.],\n",
    "[ 75.,  75.,  75.,  75.,  75.],\n",
    "[ 25.,  75.,   0.,  75.,  75.]]]\n",
    "```"
   ]
  },
  {
   "cell_type": "code",
   "execution_count": 58,
   "metadata": {
    "ExecuteTime": {
     "end_time": "2020-07-16T20:20:24.658496Z",
     "start_time": "2020-07-16T20:20:24.651105Z"
    }
   },
   "outputs": [
    {
     "name": "stdout",
     "output_type": "stream",
     "text": [
      "d =[[[ 89.  72. 101.  49.   5.]\n",
      "  [ 40.  50.  14.  15.  46.]\n",
      "  [ 67.  67.  45.  52.  79.]]\n",
      "\n",
      " [[ 42.  88.  90.  67.  28.]\n",
      "  [ 55.  37.  92.   8.  58.]\n",
      "  [ 77.  84. 101.  81.  14.]]]\n",
      "\n",
      "\n",
      "f =[[[ 75.  75. 100.  25. 100.]\n",
      "  [ 25.  25.  25.  25.  25.]\n",
      "  [ 75.  75.  25.  25.  75.]]\n",
      "\n",
      " [[ 25.  75.  75.  75.  25.]\n",
      "  [ 25.  25.  75.  25.  75.]\n",
      "  [ 75.  75. 100.  75.  25.]]]\n"
     ]
    }
   ],
   "source": [
    "# your code here\n",
    "\n",
    "print(f'd ={d}\\n\\n')\n",
    "\n",
    "print(f'f ={f}')"
   ]
  },
  {
   "cell_type": "markdown",
   "metadata": {},
   "source": [
    "#### 18. Bonus question: instead of using numbers (i.e. 0, 25, 50, 75, and 100), use string values  (\"A\", \"B\", \"C\", \"D\", and \"E\") to label the array elements. For the example above, the expected result is:\n",
    "\n",
    "```python\n",
    "[[[ 'D',  'D',  'D',  'B',  'D'],\n",
    "[ 'D',  'D',  'B',  'B',  'B'],\n",
    "[ 'D',  'B',  'D',  'D',  'D']],\n",
    "[[ 'B',  'B',  'B',  'B',  'E'],\n",
    "[ 'D',  'D',  'D',  'D',  'D'],\n",
    "[ 'B',  'D',   'A',  'D', 'D']]]\n",
    "```\n",
    "**Note**: you don't have to use Numpy in this question."
   ]
  },
  {
   "cell_type": "code",
   "execution_count": 64,
   "metadata": {
    "ExecuteTime": {
     "end_time": "2020-07-16T20:26:13.837621Z",
     "start_time": "2020-07-16T20:26:13.828977Z"
    }
   },
   "outputs": [
    {
     "name": "stdout",
     "output_type": "stream",
     "text": [
      "[[['D' 'D' 'E' 'B' 'A']\n",
      "  ['B' 'B' 'B' 'B' 'B']\n",
      "  ['D' 'D' 'B' 'B' 'D']]\n",
      "\n",
      " [['B' 'D' 'D' 'D' 'B']\n",
      "  ['B' 'B' 'D' 'B' 'D']\n",
      "  ['D' 'D' 'E' 'D' 'B']]]\n"
     ]
    }
   ],
   "source": [
    "# your code here\n",
    "g = np.where((d > d_min) & (d < d_mean), 'B', \n",
    "             np.where((d > d_mean) & (d < d_max), 'D',\n",
    "                      np.where((d == d_mean), 'C', \n",
    "                               np.where((d == d_min), 'A',\n",
    "                                        np.where((d == d_max), 'E', 'Error')))))\n",
    "\n",
    "print(g)"
   ]
  },
  {
   "cell_type": "code",
   "execution_count": null,
   "metadata": {},
   "outputs": [],
   "source": []
  }
 ],
 "metadata": {
  "kernelspec": {
   "display_name": "Python 3",
   "language": "python",
   "name": "python3"
  },
  "language_info": {
   "codemirror_mode": {
    "name": "ipython",
    "version": 3
   },
   "file_extension": ".py",
   "mimetype": "text/x-python",
   "name": "python",
   "nbconvert_exporter": "python",
   "pygments_lexer": "ipython3",
   "version": "3.7.6"
  },
  "varInspector": {
   "cols": {
    "lenName": 16,
    "lenType": 16,
    "lenVar": 40
   },
   "kernels_config": {
    "python": {
     "delete_cmd_postfix": "",
     "delete_cmd_prefix": "del ",
     "library": "var_list.py",
     "varRefreshCmd": "print(var_dic_list())"
    },
    "r": {
     "delete_cmd_postfix": ") ",
     "delete_cmd_prefix": "rm(",
     "library": "var_list.r",
     "varRefreshCmd": "cat(var_dic_list()) "
    }
   },
   "types_to_exclude": [
    "module",
    "function",
    "builtin_function_or_method",
    "instance",
    "_Feature"
   ],
   "window_display": false
  }
 },
 "nbformat": 4,
 "nbformat_minor": 2
}
